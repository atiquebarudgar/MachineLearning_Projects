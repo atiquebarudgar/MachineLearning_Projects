{
 "cells": [
  {
   "cell_type": "code",
   "execution_count": 1,
   "id": "184c401f",
   "metadata": {},
   "outputs": [],
   "source": [
    "# Aim: To predict Particulate Matter2.5(PM) through meteorological, fire, and geographical based features...\n",
    "# for Diwali and Non-Diwali day"
   ]
  },
  {
   "cell_type": "code",
   "execution_count": 2,
   "id": "c802cb99",
   "metadata": {},
   "outputs": [],
   "source": [
    "import pandas as pd\n",
    "from sklearn.linear_model import LinearRegression # Method1\n",
    "from statsmodels.formula.api import ols # Method 2"
   ]
  },
  {
   "cell_type": "markdown",
   "id": "25e65ab9",
   "metadata": {},
   "source": [
    "#### Data Loading and Preparation"
   ]
  },
  {
   "cell_type": "code",
   "execution_count": 3,
   "id": "245a7b2d",
   "metadata": {},
   "outputs": [],
   "source": [
    "df=pd.read_excel(r'C:/Users/LENOVO/Documents/Diwali_Impact_coding/Modelling/ModellingData_Type2.xlsx', usecols=['PM','Temp','RH','WS','Type','FRP','Popu','Region','Traffic_SitesB'])"
   ]
  },
  {
   "cell_type": "code",
   "execution_count": 4,
   "id": "63c1ffd8",
   "metadata": {},
   "outputs": [
    {
     "data": {
      "text/html": [
       "<div>\n",
       "<style scoped>\n",
       "    .dataframe tbody tr th:only-of-type {\n",
       "        vertical-align: middle;\n",
       "    }\n",
       "\n",
       "    .dataframe tbody tr th {\n",
       "        vertical-align: top;\n",
       "    }\n",
       "\n",
       "    .dataframe thead th {\n",
       "        text-align: right;\n",
       "    }\n",
       "</style>\n",
       "<table border=\"1\" class=\"dataframe\">\n",
       "  <thead>\n",
       "    <tr style=\"text-align: right;\">\n",
       "      <th></th>\n",
       "      <th>PM</th>\n",
       "      <th>Temp</th>\n",
       "      <th>RH</th>\n",
       "      <th>WS</th>\n",
       "      <th>Type</th>\n",
       "      <th>FRP</th>\n",
       "      <th>Popu</th>\n",
       "      <th>Region</th>\n",
       "      <th>Traffic_SitesB</th>\n",
       "    </tr>\n",
       "  </thead>\n",
       "  <tbody>\n",
       "    <tr>\n",
       "      <th>0</th>\n",
       "      <td>7.000000</td>\n",
       "      <td>24.410000</td>\n",
       "      <td>82.120000</td>\n",
       "      <td>0.960000</td>\n",
       "      <td>Diwali</td>\n",
       "      <td>181.18</td>\n",
       "      <td>SemiUrban</td>\n",
       "      <td>NorthEast</td>\n",
       "      <td>1</td>\n",
       "    </tr>\n",
       "    <tr>\n",
       "      <th>1</th>\n",
       "      <td>14.142857</td>\n",
       "      <td>26.281429</td>\n",
       "      <td>75.231905</td>\n",
       "      <td>0.398571</td>\n",
       "      <td>NoNDiwali</td>\n",
       "      <td>181.18</td>\n",
       "      <td>SemiUrban</td>\n",
       "      <td>NorthEast</td>\n",
       "      <td>1</td>\n",
       "    </tr>\n",
       "    <tr>\n",
       "      <th>2</th>\n",
       "      <td>5.375000</td>\n",
       "      <td>20.786250</td>\n",
       "      <td>95.135417</td>\n",
       "      <td>1.943333</td>\n",
       "      <td>Diwali</td>\n",
       "      <td>129.83</td>\n",
       "      <td>Urban</td>\n",
       "      <td>NorthEast</td>\n",
       "      <td>1</td>\n",
       "    </tr>\n",
       "    <tr>\n",
       "      <th>3</th>\n",
       "      <td>44.872917</td>\n",
       "      <td>24.365208</td>\n",
       "      <td>89.651875</td>\n",
       "      <td>0.682292</td>\n",
       "      <td>NoNDiwali</td>\n",
       "      <td>129.83</td>\n",
       "      <td>Urban</td>\n",
       "      <td>NorthEast</td>\n",
       "      <td>1</td>\n",
       "    </tr>\n",
       "    <tr>\n",
       "      <th>4</th>\n",
       "      <td>10.081818</td>\n",
       "      <td>20.786250</td>\n",
       "      <td>94.906667</td>\n",
       "      <td>1.506429</td>\n",
       "      <td>Diwali</td>\n",
       "      <td>129.83</td>\n",
       "      <td>Urban</td>\n",
       "      <td>NorthEast</td>\n",
       "      <td>1</td>\n",
       "    </tr>\n",
       "  </tbody>\n",
       "</table>\n",
       "</div>"
      ],
      "text/plain": [
       "          PM       Temp         RH        WS       Type     FRP       Popu  \\\n",
       "0   7.000000  24.410000  82.120000  0.960000     Diwali  181.18  SemiUrban   \n",
       "1  14.142857  26.281429  75.231905  0.398571  NoNDiwali  181.18  SemiUrban   \n",
       "2   5.375000  20.786250  95.135417  1.943333     Diwali  129.83      Urban   \n",
       "3  44.872917  24.365208  89.651875  0.682292  NoNDiwali  129.83      Urban   \n",
       "4  10.081818  20.786250  94.906667  1.506429     Diwali  129.83      Urban   \n",
       "\n",
       "      Region  Traffic_SitesB  \n",
       "0  NorthEast               1  \n",
       "1  NorthEast               1  \n",
       "2  NorthEast               1  \n",
       "3  NorthEast               1  \n",
       "4  NorthEast               1  "
      ]
     },
     "execution_count": 4,
     "metadata": {},
     "output_type": "execute_result"
    }
   ],
   "source": [
    "#df.shape#(548, 9)\n",
    "df.head()"
   ]
  },
  {
   "cell_type": "code",
   "execution_count": 5,
   "id": "6caacacc",
   "metadata": {},
   "outputs": [],
   "source": [
    "#Features Details:\n",
    "\n",
    "# PM-Particulate Matter (PM2.5), Temp-Temperature, Ws- Wind Speed,RH-Relative Humidity\n",
    "# FRP- Fire radiative Power (from MODIS NASA)\n",
    "# Popu- Location/City Characteristics based on population: Metropolitan, Urban, and Semi-Urban\n",
    "# Region- Different parts of India: North, Central, West, Northeast, East and South\n",
    "# Traffic_SitesB- 1: Traffic affected site, 0: Non-Traffic site"
   ]
  },
  {
   "cell_type": "code",
   "execution_count": 6,
   "id": "3a978006",
   "metadata": {},
   "outputs": [],
   "source": [
    "df_predict=pd.read_excel('C:/Users/LENOVO/Documents/Machine_Learning_coding/Data.xlsx') "
   ]
  },
  {
   "cell_type": "code",
   "execution_count": 7,
   "id": "78686549",
   "metadata": {},
   "outputs": [
    {
     "data": {
      "text/html": [
       "<div>\n",
       "<style scoped>\n",
       "    .dataframe tbody tr th:only-of-type {\n",
       "        vertical-align: middle;\n",
       "    }\n",
       "\n",
       "    .dataframe tbody tr th {\n",
       "        vertical-align: top;\n",
       "    }\n",
       "\n",
       "    .dataframe thead th {\n",
       "        text-align: right;\n",
       "    }\n",
       "</style>\n",
       "<table border=\"1\" class=\"dataframe\">\n",
       "  <thead>\n",
       "    <tr style=\"text-align: right;\">\n",
       "      <th></th>\n",
       "      <th>Temp</th>\n",
       "      <th>RH</th>\n",
       "      <th>WS</th>\n",
       "      <th>Type</th>\n",
       "      <th>FRP</th>\n",
       "      <th>Popu</th>\n",
       "      <th>Region</th>\n",
       "      <th>Traffic_SitesB</th>\n",
       "    </tr>\n",
       "  </thead>\n",
       "  <tbody>\n",
       "    <tr>\n",
       "      <th>0</th>\n",
       "      <td>24.365208</td>\n",
       "      <td>89.651875</td>\n",
       "      <td>0.682292</td>\n",
       "      <td>NoNDiwali</td>\n",
       "      <td>129.83</td>\n",
       "      <td>Urban</td>\n",
       "      <td>NorthEast</td>\n",
       "      <td>1</td>\n",
       "    </tr>\n",
       "    <tr>\n",
       "      <th>1</th>\n",
       "      <td>28.338750</td>\n",
       "      <td>53.098958</td>\n",
       "      <td>0.364583</td>\n",
       "      <td>NoNDiwali</td>\n",
       "      <td>62685.30</td>\n",
       "      <td>Urban</td>\n",
       "      <td>North</td>\n",
       "      <td>0</td>\n",
       "    </tr>\n",
       "    <tr>\n",
       "      <th>2</th>\n",
       "      <td>22.795833</td>\n",
       "      <td>54.392126</td>\n",
       "      <td>0.848118</td>\n",
       "      <td>Diwali</td>\n",
       "      <td>64874.91</td>\n",
       "      <td>Metropolitan</td>\n",
       "      <td>North</td>\n",
       "      <td>1</td>\n",
       "    </tr>\n",
       "    <tr>\n",
       "      <th>3</th>\n",
       "      <td>22.795833</td>\n",
       "      <td>57.591250</td>\n",
       "      <td>1.214167</td>\n",
       "      <td>Diwali</td>\n",
       "      <td>64874.91</td>\n",
       "      <td>Metropolitan</td>\n",
       "      <td>North</td>\n",
       "      <td>0</td>\n",
       "    </tr>\n",
       "    <tr>\n",
       "      <th>4</th>\n",
       "      <td>22.801708</td>\n",
       "      <td>59.742322</td>\n",
       "      <td>0.640521</td>\n",
       "      <td>NoNDiwali</td>\n",
       "      <td>64874.91</td>\n",
       "      <td>Metropolitan</td>\n",
       "      <td>North</td>\n",
       "      <td>0</td>\n",
       "    </tr>\n",
       "  </tbody>\n",
       "</table>\n",
       "</div>"
      ],
      "text/plain": [
       "        Temp         RH        WS       Type       FRP          Popu  \\\n",
       "0  24.365208  89.651875  0.682292  NoNDiwali    129.83         Urban   \n",
       "1  28.338750  53.098958  0.364583  NoNDiwali  62685.30         Urban   \n",
       "2  22.795833  54.392126  0.848118     Diwali  64874.91  Metropolitan   \n",
       "3  22.795833  57.591250  1.214167     Diwali  64874.91  Metropolitan   \n",
       "4  22.801708  59.742322  0.640521  NoNDiwali  64874.91  Metropolitan   \n",
       "\n",
       "      Region  Traffic_SitesB  \n",
       "0  NorthEast               1  \n",
       "1      North               0  \n",
       "2      North               1  \n",
       "3      North               0  \n",
       "4      North               0  "
      ]
     },
     "execution_count": 7,
     "metadata": {},
     "output_type": "execute_result"
    }
   ],
   "source": [
    "#df_predict.shape #(16, 8)\n",
    "df_predict.head()"
   ]
  },
  {
   "cell_type": "code",
   "execution_count": 8,
   "id": "32ec690f",
   "metadata": {},
   "outputs": [],
   "source": [
    "df.dropna(inplace=True)"
   ]
  },
  {
   "cell_type": "code",
   "execution_count": 9,
   "id": "fe928b89",
   "metadata": {},
   "outputs": [
    {
     "data": {
      "text/html": [
       "<div>\n",
       "<style scoped>\n",
       "    .dataframe tbody tr th:only-of-type {\n",
       "        vertical-align: middle;\n",
       "    }\n",
       "\n",
       "    .dataframe tbody tr th {\n",
       "        vertical-align: top;\n",
       "    }\n",
       "\n",
       "    .dataframe thead th {\n",
       "        text-align: right;\n",
       "    }\n",
       "</style>\n",
       "<table border=\"1\" class=\"dataframe\">\n",
       "  <thead>\n",
       "    <tr style=\"text-align: right;\">\n",
       "      <th></th>\n",
       "      <th>PM</th>\n",
       "      <th>Temp</th>\n",
       "      <th>RH</th>\n",
       "      <th>WS</th>\n",
       "      <th>FRP</th>\n",
       "      <th>Traffic_SitesB</th>\n",
       "    </tr>\n",
       "  </thead>\n",
       "  <tbody>\n",
       "    <tr>\n",
       "      <th>PM</th>\n",
       "      <td>1.000000</td>\n",
       "      <td>-0.189354</td>\n",
       "      <td>-0.437362</td>\n",
       "      <td>-0.014220</td>\n",
       "      <td>0.587760</td>\n",
       "      <td>-0.121305</td>\n",
       "    </tr>\n",
       "    <tr>\n",
       "      <th>Temp</th>\n",
       "      <td>-0.189354</td>\n",
       "      <td>1.000000</td>\n",
       "      <td>-0.083454</td>\n",
       "      <td>0.022858</td>\n",
       "      <td>-0.413304</td>\n",
       "      <td>-0.029372</td>\n",
       "    </tr>\n",
       "    <tr>\n",
       "      <th>RH</th>\n",
       "      <td>-0.437362</td>\n",
       "      <td>-0.083454</td>\n",
       "      <td>1.000000</td>\n",
       "      <td>0.025037</td>\n",
       "      <td>-0.326871</td>\n",
       "      <td>0.154137</td>\n",
       "    </tr>\n",
       "    <tr>\n",
       "      <th>WS</th>\n",
       "      <td>-0.014220</td>\n",
       "      <td>0.022858</td>\n",
       "      <td>0.025037</td>\n",
       "      <td>1.000000</td>\n",
       "      <td>-0.106175</td>\n",
       "      <td>0.077805</td>\n",
       "    </tr>\n",
       "    <tr>\n",
       "      <th>FRP</th>\n",
       "      <td>0.587760</td>\n",
       "      <td>-0.413304</td>\n",
       "      <td>-0.326871</td>\n",
       "      <td>-0.106175</td>\n",
       "      <td>1.000000</td>\n",
       "      <td>-0.243627</td>\n",
       "    </tr>\n",
       "    <tr>\n",
       "      <th>Traffic_SitesB</th>\n",
       "      <td>-0.121305</td>\n",
       "      <td>-0.029372</td>\n",
       "      <td>0.154137</td>\n",
       "      <td>0.077805</td>\n",
       "      <td>-0.243627</td>\n",
       "      <td>1.000000</td>\n",
       "    </tr>\n",
       "  </tbody>\n",
       "</table>\n",
       "</div>"
      ],
      "text/plain": [
       "                      PM      Temp        RH        WS       FRP  \\\n",
       "PM              1.000000 -0.189354 -0.437362 -0.014220  0.587760   \n",
       "Temp           -0.189354  1.000000 -0.083454  0.022858 -0.413304   \n",
       "RH             -0.437362 -0.083454  1.000000  0.025037 -0.326871   \n",
       "WS             -0.014220  0.022858  0.025037  1.000000 -0.106175   \n",
       "FRP             0.587760 -0.413304 -0.326871 -0.106175  1.000000   \n",
       "Traffic_SitesB -0.121305 -0.029372  0.154137  0.077805 -0.243627   \n",
       "\n",
       "                Traffic_SitesB  \n",
       "PM                   -0.121305  \n",
       "Temp                 -0.029372  \n",
       "RH                    0.154137  \n",
       "WS                    0.077805  \n",
       "FRP                  -0.243627  \n",
       "Traffic_SitesB        1.000000  "
      ]
     },
     "execution_count": 9,
     "metadata": {},
     "output_type": "execute_result"
    }
   ],
   "source": [
    "df.corr() # Checking weather any high correlation exists between features or not."
   ]
  },
  {
   "cell_type": "code",
   "execution_count": 10,
   "id": "82bfbbb7",
   "metadata": {},
   "outputs": [],
   "source": [
    "## Converting all non-numerical variable through creating dummies into encoding(0,1).\n",
    "df=pd.get_dummies(df, columns = ['Type','Popu','Region']) "
   ]
  },
  {
   "cell_type": "markdown",
   "id": "020d4ca3",
   "metadata": {},
   "source": [
    "## 1: scikit-learn"
   ]
  },
  {
   "cell_type": "markdown",
   "id": "e43fbed4",
   "metadata": {},
   "source": [
    "###### Fitting to model"
   ]
  },
  {
   "cell_type": "code",
   "execution_count": 11,
   "id": "02085f06",
   "metadata": {},
   "outputs": [],
   "source": [
    "model_LR=LinearRegression() # defining Linearregression model"
   ]
  },
  {
   "cell_type": "code",
   "execution_count": 12,
   "id": "073c646b",
   "metadata": {},
   "outputs": [],
   "source": [
    "X=df.loc[:,df.columns!='PM'] # Indepenedent/Predictor Variables\n",
    "y=df.loc[:,'PM'] # Dependent Variable"
   ]
  },
  {
   "cell_type": "code",
   "execution_count": 13,
   "id": "a313e33f",
   "metadata": {},
   "outputs": [
    {
     "data": {
      "text/plain": [
       "LinearRegression()"
      ]
     },
     "execution_count": 13,
     "metadata": {},
     "output_type": "execute_result"
    }
   ],
   "source": [
    "model_LR.fit(X,y)"
   ]
  },
  {
   "cell_type": "code",
   "execution_count": 14,
   "id": "66ed18ea",
   "metadata": {},
   "outputs": [
    {
     "data": {
      "text/plain": [
       "array([ 1.11655012e+00, -9.83372830e-01,  1.58621777e+00,  8.02892344e-04,\n",
       "        3.48880916e+00,  1.66409472e+01, -1.66409472e+01,  2.01481435e+01,\n",
       "       -2.13558523e+01,  1.20770879e+00,  1.39851140e+01, -8.52917297e+00,\n",
       "        2.12491630e+01, -2.35777254e+01, -1.40564562e+01,  1.09290776e+01])"
      ]
     },
     "execution_count": 14,
     "metadata": {},
     "output_type": "execute_result"
    }
   ],
   "source": [
    "model_LR.coef_ "
   ]
  },
  {
   "cell_type": "code",
   "execution_count": 15,
   "id": "9955bbb4",
   "metadata": {},
   "outputs": [
    {
     "data": {
      "text/plain": [
       "99.03845743956944"
      ]
     },
     "execution_count": 15,
     "metadata": {},
     "output_type": "execute_result"
    }
   ],
   "source": [
    "model_LR.intercept_"
   ]
  },
  {
   "cell_type": "code",
   "execution_count": 16,
   "id": "5cdd17c4",
   "metadata": {},
   "outputs": [
    {
     "data": {
      "text/plain": [
       "0.5255375732548951"
      ]
     },
     "execution_count": 16,
     "metadata": {},
     "output_type": "execute_result"
    }
   ],
   "source": [
    "model_LR.score(X,y) # R-square"
   ]
  },
  {
   "cell_type": "code",
   "execution_count": 17,
   "id": "8848d7b6",
   "metadata": {},
   "outputs": [],
   "source": [
    "def Adj_Rsqr(model,X,y):\n",
    "    yp = model.predict(X) # yp=y predicted\n",
    "    SSR = sum((y-yp)**2) # Sum of squares due to regression  \n",
    "    SST = sum((y-np.mean(y))**2) # Total sum of squares    \n",
    "    r_squared = 1 - (float(SSR))/SST\n",
    "    Adj_r_squared = 1 - (1-r_squared)*(len(y)-1)/(len(y)-X.shape[1]-1)\n",
    "    return  Adj_r_squared"
   ]
  },
  {
   "cell_type": "code",
   "execution_count": 18,
   "id": "33d71ed0",
   "metadata": {},
   "outputs": [
    {
     "data": {
      "text/plain": [
       "0.5070219663575246"
      ]
     },
     "execution_count": 18,
     "metadata": {},
     "output_type": "execute_result"
    }
   ],
   "source": [
    "Adj_Rsqr(model_LR,X,y)"
   ]
  },
  {
   "cell_type": "markdown",
   "id": "f0408c0c",
   "metadata": {},
   "source": [
    "##### Prediction"
   ]
  },
  {
   "cell_type": "code",
   "execution_count": 19,
   "id": "686dafc2",
   "metadata": {},
   "outputs": [],
   "source": [
    "df_predict=pd.get_dummies(df_predict, columns = ['Type','Region','Popu'])"
   ]
  },
  {
   "cell_type": "code",
   "execution_count": 20,
   "id": "66e0fbb7",
   "metadata": {},
   "outputs": [
    {
     "data": {
      "text/plain": [
       "(16, 16)"
      ]
     },
     "execution_count": 20,
     "metadata": {},
     "output_type": "execute_result"
    }
   ],
   "source": [
    "df_predict.shape"
   ]
  },
  {
   "cell_type": "code",
   "execution_count": 21,
   "id": "83c7c005",
   "metadata": {},
   "outputs": [
    {
     "data": {
      "text/plain": [
       "array([ 51.0307719 , 124.86771441, 122.19601641, 116.14190925,\n",
       "        79.84134078, 143.98169082,  76.91967373,  25.2743914 ,\n",
       "        95.43017987, 102.1306858 ,  83.31991849,  56.99706497,\n",
       "        -8.69078615,  54.28253302, 132.69237654,  32.86162709])"
      ]
     },
     "execution_count": 21,
     "metadata": {},
     "output_type": "execute_result"
    }
   ],
   "source": [
    "model_LR.predict(df_predict)"
   ]
  },
  {
   "cell_type": "markdown",
   "id": "2775165c",
   "metadata": {},
   "source": [
    "## 2: statsmodels"
   ]
  },
  {
   "cell_type": "markdown",
   "id": "b56da4f1",
   "metadata": {},
   "source": [
    "#### Modelling"
   ]
  },
  {
   "cell_type": "code",
   "execution_count": 22,
   "id": "866c4cb9",
   "metadata": {},
   "outputs": [],
   "source": [
    "# Dependent/Predicted Variable=PM\n",
    "model_ols=ols('PM~Temp+RH+WS+FRP+Traffic_SitesB+Type_Diwali+Type_NoNDiwali+Region_Central+Region_East+Region_North+Region_NorthEast+Region_South+Region_West+Popu_Metropolitan+Popu_SemiUrban+Popu_Urban',data=df).fit()"
   ]
  },
  {
   "cell_type": "code",
   "execution_count": 23,
   "id": "ed9a98a9",
   "metadata": {},
   "outputs": [
    {
     "name": "stdout",
     "output_type": "stream",
     "text": [
      "                            OLS Regression Results                            \n",
      "==============================================================================\n",
      "Dep. Variable:                     PM   R-squared:                       0.526\n",
      "Model:                            OLS   Adj. R-squared:                  0.511\n",
      "Method:                 Least Squares   F-statistic:                     35.19\n",
      "Date:                Sun, 02 Apr 2023   Prob (F-statistic):           8.31e-59\n",
      "Time:                        13:18:34   Log-Likelihood:                -2233.5\n",
      "No. Observations:                 427   AIC:                             4495.\n",
      "Df Residuals:                     413   BIC:                             4552.\n",
      "Df Model:                          13                                         \n",
      "Covariance Type:            nonrobust                                         \n",
      "=====================================================================================\n",
      "                        coef    std err          t      P>|t|      [0.025      0.975]\n",
      "-------------------------------------------------------------------------------------\n",
      "Intercept            49.5192     15.408      3.214      0.001      19.232      79.807\n",
      "Temp                  1.1166      0.898      1.244      0.214      -0.648       2.881\n",
      "RH                   -0.9834      0.186     -5.296      0.000      -1.348      -0.618\n",
      "WS                    1.5862      1.254      1.265      0.207      -0.879       4.051\n",
      "FRP                   0.0008      0.000      4.808      0.000       0.000       0.001\n",
      "Traffic_SitesB        3.4888      5.269      0.662      0.508      -6.869      13.846\n",
      "Type_Diwali          41.4006      7.793      5.312      0.000      26.081      56.720\n",
      "Type_NoNDiwali        8.1187      8.247      0.984      0.325      -8.093      24.330\n",
      "Region_Central       22.2383     10.638      2.090      0.037       1.326      43.150\n",
      "Region_East          -0.2760      7.428     -0.037      0.970     -14.878      14.326\n",
      "Region_North         29.5024      8.531      3.458      0.001      12.732      46.273\n",
      "Region_NorthEast    -15.3245     10.681     -1.435      0.152     -36.320       5.671\n",
      "Region_South         -5.8033      6.385     -0.909      0.364     -18.355       6.748\n",
      "Region_West          19.1823      6.500      2.951      0.003       6.404      31.960\n",
      "Popu_Metropolitan    36.6546      7.189      5.099      0.000      22.523      50.787\n",
      "Popu_SemiUrban       -4.8494     13.988     -0.347      0.729     -32.346      22.647\n",
      "Popu_Urban           17.7141      7.216      2.455      0.015       3.530      31.898\n",
      "==============================================================================\n",
      "Omnibus:                       61.806   Durbin-Watson:                   1.864\n",
      "Prob(Omnibus):                  0.000   Jarque-Bera (JB):              120.549\n",
      "Skew:                           0.812   Prob(JB):                     6.65e-27\n",
      "Kurtosis:                       5.035   Cond. No.                     4.99e+20\n",
      "==============================================================================\n",
      "\n",
      "Notes:\n",
      "[1] Standard Errors assume that the covariance matrix of the errors is correctly specified.\n",
      "[2] The smallest eigenvalue is 2.36e-30. This might indicate that there are\n",
      "strong multicollinearity problems or that the design matrix is singular.\n"
     ]
    }
   ],
   "source": [
    "print(model_ols.summary())"
   ]
  },
  {
   "cell_type": "code",
   "execution_count": 24,
   "id": "8838accb",
   "metadata": {
    "scrolled": true
   },
   "outputs": [
    {
     "data": {
      "text/plain": [
       "Intercept            1.412296e-03\n",
       "Temp                 2.142646e-01\n",
       "RH                   1.927635e-07\n",
       "WS                   2.065949e-01\n",
       "FRP                  2.136865e-06\n",
       "Traffic_SitesB       5.082478e-01\n",
       "Type_Diwali          1.773617e-07\n",
       "Type_NoNDiwali       3.254884e-01\n",
       "Region_Central       3.719143e-02\n",
       "Region_East          9.703829e-01\n",
       "Region_North         6.004814e-04\n",
       "Region_NorthEast     1.521124e-01\n",
       "Region_South         3.639460e-01\n",
       "Region_West          3.348838e-03\n",
       "Popu_Metropolitan    5.223263e-07\n",
       "Popu_SemiUrban       7.290023e-01\n",
       "Popu_Urban           1.450331e-02\n",
       "dtype: float64"
      ]
     },
     "execution_count": 24,
     "metadata": {},
     "output_type": "execute_result"
    }
   ],
   "source": [
    "model_ols.pvalues"
   ]
  },
  {
   "cell_type": "code",
   "execution_count": 25,
   "id": "d84b6cf5",
   "metadata": {},
   "outputs": [
    {
     "data": {
      "text/plain": [
       "Intercept            49.519229\n",
       "Temp                  1.116550\n",
       "RH                   -0.983373\n",
       "WS                    1.586218\n",
       "FRP                   0.000803\n",
       "Traffic_SitesB        3.488809\n",
       "Type_Diwali          41.400562\n",
       "Type_NoNDiwali        8.118667\n",
       "Region_Central       22.238319\n",
       "Region_East          -0.275968\n",
       "Region_North         29.502368\n",
       "Region_NorthEast    -15.324521\n",
       "Region_South         -5.803251\n",
       "Region_West          19.182282\n",
       "Popu_Metropolitan    36.654553\n",
       "Popu_SemiUrban       -4.849443\n",
       "Popu_Urban           17.714118\n",
       "dtype: float64"
      ]
     },
     "execution_count": 25,
     "metadata": {},
     "output_type": "execute_result"
    }
   ],
   "source": [
    "model_ols.params"
   ]
  },
  {
   "cell_type": "markdown",
   "id": "81fd3816",
   "metadata": {},
   "source": [
    "#### Prediction"
   ]
  },
  {
   "cell_type": "code",
   "execution_count": 26,
   "id": "6ffd3df4",
   "metadata": {},
   "outputs": [
    {
     "data": {
      "text/plain": [
       "0       3.746564\n",
       "1     135.187800\n",
       "2     185.963340\n",
       "3     179.909232\n",
       "4     143.608664\n",
       "5     154.301776\n",
       "6      54.885981\n",
       "7      63.472977\n",
       "8     133.628765\n",
       "9      86.882034\n",
       "10    116.725702\n",
       "11     90.402848\n",
       "12     47.861762\n",
       "13     57.387844\n",
       "14    116.807978\n",
       "15     38.388910\n",
       "dtype: float64"
      ]
     },
     "execution_count": 26,
     "metadata": {},
     "output_type": "execute_result"
    }
   ],
   "source": [
    "model_ols.predict(df_predict)"
   ]
  },
  {
   "cell_type": "code",
   "execution_count": null,
   "id": "063a5afe",
   "metadata": {},
   "outputs": [],
   "source": []
  },
  {
   "cell_type": "code",
   "execution_count": null,
   "id": "7d3e344c",
   "metadata": {},
   "outputs": [],
   "source": []
  }
 ],
 "metadata": {
  "kernelspec": {
   "display_name": "Python 3 (ipykernel)",
   "language": "python",
   "name": "python3"
  },
  "language_info": {
   "codemirror_mode": {
    "name": "ipython",
    "version": 3
   },
   "file_extension": ".py",
   "mimetype": "text/x-python",
   "name": "python",
   "nbconvert_exporter": "python",
   "pygments_lexer": "ipython3",
   "version": "3.9.7"
  },
  "varInspector": {
   "cols": {
    "lenName": 16,
    "lenType": 16,
    "lenVar": 40
   },
   "kernels_config": {
    "python": {
     "delete_cmd_postfix": "",
     "delete_cmd_prefix": "del ",
     "library": "var_list.py",
     "varRefreshCmd": "print(var_dic_list())"
    },
    "r": {
     "delete_cmd_postfix": ") ",
     "delete_cmd_prefix": "rm(",
     "library": "var_list.r",
     "varRefreshCmd": "cat(var_dic_list()) "
    }
   },
   "types_to_exclude": [
    "module",
    "function",
    "builtin_function_or_method",
    "instance",
    "_Feature"
   ],
   "window_display": false
  }
 },
 "nbformat": 4,
 "nbformat_minor": 5
}
